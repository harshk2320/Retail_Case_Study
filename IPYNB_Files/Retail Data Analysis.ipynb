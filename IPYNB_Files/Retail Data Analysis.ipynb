{
 "cells": [
  {
   "cell_type": "code",
   "execution_count": 222,
   "metadata": {},
   "outputs": [],
   "source": [
    "import numpy as np\n",
    "import pandas as pd\n",
    "import matplotlib.pyplot as plt\n",
    "import seaborn as sns\n",
    "from datetime import datetime as dt, date"
   ]
  },
  {
   "cell_type": "code",
   "execution_count": 60,
   "metadata": {},
   "outputs": [],
   "source": [
    "customer= pd.read_csv(r\"F:\\AnalyticslabFIles\\Projects\\python\\Case Study 1 - Retail Case Study\\Customer.csv\")\n",
    "prod_cat_info= pd.read_csv(r\"F:\\AnalyticslabFIles\\Projects\\python\\Case Study 1 - Retail Case Study\\prod_cat_info.csv\")\n",
    "transaction= pd.read_csv(r\"F:\\AnalyticslabFIles\\Projects\\python\\Case Study 1 - Retail Case Study\\Transactions.csv\")"
   ]
  },
  {
   "cell_type": "code",
   "execution_count": 61,
   "metadata": {},
   "outputs": [
    {
     "data": {
      "text/html": [
       "<div>\n",
       "<style scoped>\n",
       "    .dataframe tbody tr th:only-of-type {\n",
       "        vertical-align: middle;\n",
       "    }\n",
       "\n",
       "    .dataframe tbody tr th {\n",
       "        vertical-align: top;\n",
       "    }\n",
       "\n",
       "    .dataframe thead th {\n",
       "        text-align: right;\n",
       "    }\n",
       "</style>\n",
       "<table border=\"1\" class=\"dataframe\">\n",
       "  <thead>\n",
       "    <tr style=\"text-align: right;\">\n",
       "      <th></th>\n",
       "      <th>customer_Id</th>\n",
       "      <th>DOB</th>\n",
       "      <th>Gender</th>\n",
       "      <th>city_code</th>\n",
       "    </tr>\n",
       "  </thead>\n",
       "  <tbody>\n",
       "    <tr>\n",
       "      <th>0</th>\n",
       "      <td>268408</td>\n",
       "      <td>02-01-1970</td>\n",
       "      <td>M</td>\n",
       "      <td>4.0</td>\n",
       "    </tr>\n",
       "    <tr>\n",
       "      <th>1</th>\n",
       "      <td>269696</td>\n",
       "      <td>07-01-1970</td>\n",
       "      <td>F</td>\n",
       "      <td>8.0</td>\n",
       "    </tr>\n",
       "    <tr>\n",
       "      <th>2</th>\n",
       "      <td>268159</td>\n",
       "      <td>08-01-1970</td>\n",
       "      <td>F</td>\n",
       "      <td>8.0</td>\n",
       "    </tr>\n",
       "    <tr>\n",
       "      <th>3</th>\n",
       "      <td>270181</td>\n",
       "      <td>10-01-1970</td>\n",
       "      <td>F</td>\n",
       "      <td>2.0</td>\n",
       "    </tr>\n",
       "    <tr>\n",
       "      <th>4</th>\n",
       "      <td>268073</td>\n",
       "      <td>11-01-1970</td>\n",
       "      <td>M</td>\n",
       "      <td>1.0</td>\n",
       "    </tr>\n",
       "  </tbody>\n",
       "</table>\n",
       "</div>"
      ],
      "text/plain": [
       "   customer_Id         DOB Gender  city_code\n",
       "0       268408  02-01-1970      M        4.0\n",
       "1       269696  07-01-1970      F        8.0\n",
       "2       268159  08-01-1970      F        8.0\n",
       "3       270181  10-01-1970      F        2.0\n",
       "4       268073  11-01-1970      M        1.0"
      ]
     },
     "execution_count": 61,
     "metadata": {},
     "output_type": "execute_result"
    }
   ],
   "source": [
    "customer.head()"
   ]
  },
  {
   "cell_type": "code",
   "execution_count": 62,
   "metadata": {
    "scrolled": true
   },
   "outputs": [
    {
     "data": {
      "text/html": [
       "<div>\n",
       "<style scoped>\n",
       "    .dataframe tbody tr th:only-of-type {\n",
       "        vertical-align: middle;\n",
       "    }\n",
       "\n",
       "    .dataframe tbody tr th {\n",
       "        vertical-align: top;\n",
       "    }\n",
       "\n",
       "    .dataframe thead th {\n",
       "        text-align: right;\n",
       "    }\n",
       "</style>\n",
       "<table border=\"1\" class=\"dataframe\">\n",
       "  <thead>\n",
       "    <tr style=\"text-align: right;\">\n",
       "      <th></th>\n",
       "      <th>prod_cat_code</th>\n",
       "      <th>prod_cat</th>\n",
       "      <th>prod_sub_cat_code</th>\n",
       "      <th>prod_subcat</th>\n",
       "    </tr>\n",
       "  </thead>\n",
       "  <tbody>\n",
       "    <tr>\n",
       "      <th>0</th>\n",
       "      <td>1</td>\n",
       "      <td>Clothing</td>\n",
       "      <td>4</td>\n",
       "      <td>Mens</td>\n",
       "    </tr>\n",
       "    <tr>\n",
       "      <th>1</th>\n",
       "      <td>1</td>\n",
       "      <td>Clothing</td>\n",
       "      <td>1</td>\n",
       "      <td>Women</td>\n",
       "    </tr>\n",
       "    <tr>\n",
       "      <th>2</th>\n",
       "      <td>1</td>\n",
       "      <td>Clothing</td>\n",
       "      <td>3</td>\n",
       "      <td>Kids</td>\n",
       "    </tr>\n",
       "    <tr>\n",
       "      <th>3</th>\n",
       "      <td>2</td>\n",
       "      <td>Footwear</td>\n",
       "      <td>1</td>\n",
       "      <td>Mens</td>\n",
       "    </tr>\n",
       "    <tr>\n",
       "      <th>4</th>\n",
       "      <td>2</td>\n",
       "      <td>Footwear</td>\n",
       "      <td>3</td>\n",
       "      <td>Women</td>\n",
       "    </tr>\n",
       "  </tbody>\n",
       "</table>\n",
       "</div>"
      ],
      "text/plain": [
       "   prod_cat_code  prod_cat  prod_sub_cat_code prod_subcat\n",
       "0              1  Clothing                  4        Mens\n",
       "1              1  Clothing                  1       Women\n",
       "2              1  Clothing                  3        Kids\n",
       "3              2  Footwear                  1        Mens\n",
       "4              2  Footwear                  3       Women"
      ]
     },
     "execution_count": 62,
     "metadata": {},
     "output_type": "execute_result"
    }
   ],
   "source": [
    "prod_cat_info.head()"
   ]
  },
  {
   "cell_type": "code",
   "execution_count": 63,
   "metadata": {},
   "outputs": [
    {
     "data": {
      "text/html": [
       "<div>\n",
       "<style scoped>\n",
       "    .dataframe tbody tr th:only-of-type {\n",
       "        vertical-align: middle;\n",
       "    }\n",
       "\n",
       "    .dataframe tbody tr th {\n",
       "        vertical-align: top;\n",
       "    }\n",
       "\n",
       "    .dataframe thead th {\n",
       "        text-align: right;\n",
       "    }\n",
       "</style>\n",
       "<table border=\"1\" class=\"dataframe\">\n",
       "  <thead>\n",
       "    <tr style=\"text-align: right;\">\n",
       "      <th></th>\n",
       "      <th>transaction_id</th>\n",
       "      <th>cust_id</th>\n",
       "      <th>tran_date</th>\n",
       "      <th>prod_subcat_code</th>\n",
       "      <th>prod_cat_code</th>\n",
       "      <th>Qty</th>\n",
       "      <th>Rate</th>\n",
       "      <th>Tax</th>\n",
       "      <th>total_amt</th>\n",
       "      <th>Store_type</th>\n",
       "    </tr>\n",
       "  </thead>\n",
       "  <tbody>\n",
       "    <tr>\n",
       "      <th>0</th>\n",
       "      <td>80712190438</td>\n",
       "      <td>270351</td>\n",
       "      <td>28-02-2014</td>\n",
       "      <td>1</td>\n",
       "      <td>1</td>\n",
       "      <td>-5</td>\n",
       "      <td>-772</td>\n",
       "      <td>405.300</td>\n",
       "      <td>-4265.300</td>\n",
       "      <td>e-Shop</td>\n",
       "    </tr>\n",
       "    <tr>\n",
       "      <th>1</th>\n",
       "      <td>29258453508</td>\n",
       "      <td>270384</td>\n",
       "      <td>27-02-2014</td>\n",
       "      <td>5</td>\n",
       "      <td>3</td>\n",
       "      <td>-5</td>\n",
       "      <td>-1497</td>\n",
       "      <td>785.925</td>\n",
       "      <td>-8270.925</td>\n",
       "      <td>e-Shop</td>\n",
       "    </tr>\n",
       "    <tr>\n",
       "      <th>2</th>\n",
       "      <td>51750724947</td>\n",
       "      <td>273420</td>\n",
       "      <td>24-02-2014</td>\n",
       "      <td>6</td>\n",
       "      <td>5</td>\n",
       "      <td>-2</td>\n",
       "      <td>-791</td>\n",
       "      <td>166.110</td>\n",
       "      <td>-1748.110</td>\n",
       "      <td>TeleShop</td>\n",
       "    </tr>\n",
       "    <tr>\n",
       "      <th>3</th>\n",
       "      <td>93274880719</td>\n",
       "      <td>271509</td>\n",
       "      <td>24-02-2014</td>\n",
       "      <td>11</td>\n",
       "      <td>6</td>\n",
       "      <td>-3</td>\n",
       "      <td>-1363</td>\n",
       "      <td>429.345</td>\n",
       "      <td>-4518.345</td>\n",
       "      <td>e-Shop</td>\n",
       "    </tr>\n",
       "    <tr>\n",
       "      <th>4</th>\n",
       "      <td>51750724947</td>\n",
       "      <td>273420</td>\n",
       "      <td>23-02-2014</td>\n",
       "      <td>6</td>\n",
       "      <td>5</td>\n",
       "      <td>-2</td>\n",
       "      <td>-791</td>\n",
       "      <td>166.110</td>\n",
       "      <td>-1748.110</td>\n",
       "      <td>TeleShop</td>\n",
       "    </tr>\n",
       "  </tbody>\n",
       "</table>\n",
       "</div>"
      ],
      "text/plain": [
       "   transaction_id  cust_id   tran_date  prod_subcat_code  prod_cat_code  Qty  \\\n",
       "0     80712190438   270351  28-02-2014                 1              1   -5   \n",
       "1     29258453508   270384  27-02-2014                 5              3   -5   \n",
       "2     51750724947   273420  24-02-2014                 6              5   -2   \n",
       "3     93274880719   271509  24-02-2014                11              6   -3   \n",
       "4     51750724947   273420  23-02-2014                 6              5   -2   \n",
       "\n",
       "   Rate      Tax  total_amt Store_type  \n",
       "0  -772  405.300  -4265.300     e-Shop  \n",
       "1 -1497  785.925  -8270.925     e-Shop  \n",
       "2  -791  166.110  -1748.110   TeleShop  \n",
       "3 -1363  429.345  -4518.345     e-Shop  \n",
       "4  -791  166.110  -1748.110   TeleShop  "
      ]
     },
     "execution_count": 63,
     "metadata": {},
     "output_type": "execute_result"
    }
   ],
   "source": [
    "transaction.head()"
   ]
  },
  {
   "cell_type": "markdown",
   "metadata": {},
   "source": [
    "#### 1. Merge the datasets Customers, Product Hierarchy and Transactions as Customer_Final. Ensure to keep all customers who have done transactions with us and select the join type accordingly."
   ]
  },
  {
   "cell_type": "code",
   "execution_count": 64,
   "metadata": {},
   "outputs": [],
   "source": [
    "cust_prod_trans= pd.merge(left= prod_cat_info, right= transaction, how= 'inner', on= 'prod_cat_code' )"
   ]
  },
  {
   "cell_type": "code",
   "execution_count": 65,
   "metadata": {},
   "outputs": [
    {
     "data": {
      "text/html": [
       "<div>\n",
       "<style scoped>\n",
       "    .dataframe tbody tr th:only-of-type {\n",
       "        vertical-align: middle;\n",
       "    }\n",
       "\n",
       "    .dataframe tbody tr th {\n",
       "        vertical-align: top;\n",
       "    }\n",
       "\n",
       "    .dataframe thead th {\n",
       "        text-align: right;\n",
       "    }\n",
       "</style>\n",
       "<table border=\"1\" class=\"dataframe\">\n",
       "  <thead>\n",
       "    <tr style=\"text-align: right;\">\n",
       "      <th></th>\n",
       "      <th>prod_cat_code</th>\n",
       "      <th>prod_cat</th>\n",
       "      <th>prod_sub_cat_code</th>\n",
       "      <th>prod_subcat</th>\n",
       "      <th>transaction_id</th>\n",
       "      <th>cust_id</th>\n",
       "      <th>tran_date</th>\n",
       "      <th>prod_subcat_code</th>\n",
       "      <th>Qty</th>\n",
       "      <th>Rate</th>\n",
       "      <th>Tax</th>\n",
       "      <th>total_amt</th>\n",
       "      <th>Store_type</th>\n",
       "    </tr>\n",
       "  </thead>\n",
       "  <tbody>\n",
       "    <tr>\n",
       "      <th>0</th>\n",
       "      <td>1</td>\n",
       "      <td>Clothing</td>\n",
       "      <td>4</td>\n",
       "      <td>Mens</td>\n",
       "      <td>80712190438</td>\n",
       "      <td>270351</td>\n",
       "      <td>28-02-2014</td>\n",
       "      <td>1</td>\n",
       "      <td>-5</td>\n",
       "      <td>-772</td>\n",
       "      <td>405.30</td>\n",
       "      <td>-4265.30</td>\n",
       "      <td>e-Shop</td>\n",
       "    </tr>\n",
       "    <tr>\n",
       "      <th>1</th>\n",
       "      <td>1</td>\n",
       "      <td>Clothing</td>\n",
       "      <td>4</td>\n",
       "      <td>Mens</td>\n",
       "      <td>79792372943</td>\n",
       "      <td>275108</td>\n",
       "      <td>22-02-2014</td>\n",
       "      <td>3</td>\n",
       "      <td>-3</td>\n",
       "      <td>-908</td>\n",
       "      <td>286.02</td>\n",
       "      <td>-3010.02</td>\n",
       "      <td>MBR</td>\n",
       "    </tr>\n",
       "  </tbody>\n",
       "</table>\n",
       "</div>"
      ],
      "text/plain": [
       "   prod_cat_code  prod_cat  prod_sub_cat_code prod_subcat  transaction_id  \\\n",
       "0              1  Clothing                  4        Mens     80712190438   \n",
       "1              1  Clothing                  4        Mens     79792372943   \n",
       "\n",
       "   cust_id   tran_date  prod_subcat_code  Qty  Rate     Tax  total_amt  \\\n",
       "0   270351  28-02-2014                 1   -5  -772  405.30   -4265.30   \n",
       "1   275108  22-02-2014                 3   -3  -908  286.02   -3010.02   \n",
       "\n",
       "  Store_type  \n",
       "0     e-Shop  \n",
       "1        MBR  "
      ]
     },
     "execution_count": 65,
     "metadata": {},
     "output_type": "execute_result"
    }
   ],
   "source": [
    "cust_prod_trans.head(2)"
   ]
  },
  {
   "cell_type": "code",
   "execution_count": 66,
   "metadata": {},
   "outputs": [],
   "source": [
    "cust_prod_trans= pd.merge(left= cust_prod_trans, right= customer, how= 'inner', left_on='cust_id', right_on= 'customer_Id'  )"
   ]
  },
  {
   "cell_type": "code",
   "execution_count": 67,
   "metadata": {},
   "outputs": [
    {
     "data": {
      "text/html": [
       "<div>\n",
       "<style scoped>\n",
       "    .dataframe tbody tr th:only-of-type {\n",
       "        vertical-align: middle;\n",
       "    }\n",
       "\n",
       "    .dataframe tbody tr th {\n",
       "        vertical-align: top;\n",
       "    }\n",
       "\n",
       "    .dataframe thead th {\n",
       "        text-align: right;\n",
       "    }\n",
       "</style>\n",
       "<table border=\"1\" class=\"dataframe\">\n",
       "  <thead>\n",
       "    <tr style=\"text-align: right;\">\n",
       "      <th></th>\n",
       "      <th>prod_cat_code</th>\n",
       "      <th>prod_cat</th>\n",
       "      <th>prod_sub_cat_code</th>\n",
       "      <th>prod_subcat</th>\n",
       "      <th>transaction_id</th>\n",
       "      <th>cust_id</th>\n",
       "      <th>tran_date</th>\n",
       "      <th>prod_subcat_code</th>\n",
       "      <th>Qty</th>\n",
       "      <th>Rate</th>\n",
       "      <th>Tax</th>\n",
       "      <th>total_amt</th>\n",
       "      <th>Store_type</th>\n",
       "      <th>customer_Id</th>\n",
       "      <th>DOB</th>\n",
       "      <th>Gender</th>\n",
       "      <th>city_code</th>\n",
       "    </tr>\n",
       "  </thead>\n",
       "  <tbody>\n",
       "    <tr>\n",
       "      <th>0</th>\n",
       "      <td>1</td>\n",
       "      <td>Clothing</td>\n",
       "      <td>4</td>\n",
       "      <td>Mens</td>\n",
       "      <td>80712190438</td>\n",
       "      <td>270351</td>\n",
       "      <td>28-02-2014</td>\n",
       "      <td>1</td>\n",
       "      <td>-5</td>\n",
       "      <td>-772</td>\n",
       "      <td>405.3</td>\n",
       "      <td>-4265.3</td>\n",
       "      <td>e-Shop</td>\n",
       "      <td>270351</td>\n",
       "      <td>26-09-1981</td>\n",
       "      <td>M</td>\n",
       "      <td>5.0</td>\n",
       "    </tr>\n",
       "    <tr>\n",
       "      <th>1</th>\n",
       "      <td>1</td>\n",
       "      <td>Clothing</td>\n",
       "      <td>4</td>\n",
       "      <td>Mens</td>\n",
       "      <td>80712190438</td>\n",
       "      <td>270351</td>\n",
       "      <td>20-02-2014</td>\n",
       "      <td>1</td>\n",
       "      <td>5</td>\n",
       "      <td>772</td>\n",
       "      <td>405.3</td>\n",
       "      <td>4265.3</td>\n",
       "      <td>e-Shop</td>\n",
       "      <td>270351</td>\n",
       "      <td>26-09-1981</td>\n",
       "      <td>M</td>\n",
       "      <td>5.0</td>\n",
       "    </tr>\n",
       "  </tbody>\n",
       "</table>\n",
       "</div>"
      ],
      "text/plain": [
       "   prod_cat_code  prod_cat  prod_sub_cat_code prod_subcat  transaction_id  \\\n",
       "0              1  Clothing                  4        Mens     80712190438   \n",
       "1              1  Clothing                  4        Mens     80712190438   \n",
       "\n",
       "   cust_id   tran_date  prod_subcat_code  Qty  Rate    Tax  total_amt  \\\n",
       "0   270351  28-02-2014                 1   -5  -772  405.3    -4265.3   \n",
       "1   270351  20-02-2014                 1    5   772  405.3     4265.3   \n",
       "\n",
       "  Store_type  customer_Id         DOB Gender  city_code  \n",
       "0     e-Shop       270351  26-09-1981      M        5.0  \n",
       "1     e-Shop       270351  26-09-1981      M        5.0  "
      ]
     },
     "execution_count": 67,
     "metadata": {},
     "output_type": "execute_result"
    }
   ],
   "source": [
    "cust_prod_trans.head(2)"
   ]
  },
  {
   "cell_type": "markdown",
   "metadata": {},
   "source": [
    "#### 2. Prepare a summary report for the merged data set.\n",
    " ##### a. Get the column names and their corresponding data types"
   ]
  },
  {
   "cell_type": "code",
   "execution_count": 80,
   "metadata": {},
   "outputs": [
    {
     "name": "stdout",
     "output_type": "stream",
     "text": [
      "<class 'pandas.core.frame.DataFrame'>\n",
      "Int64Index: 99293 entries, 0 to 99292\n",
      "Data columns (total 17 columns):\n",
      " #   Column             Non-Null Count  Dtype  \n",
      "---  ------             --------------  -----  \n",
      " 0   prod_cat_code      99293 non-null  object \n",
      " 1   prod_cat           99293 non-null  object \n",
      " 2   prod_sub_cat_code  99293 non-null  object \n",
      " 3   prod_subcat        99293 non-null  object \n",
      " 4   transaction_id     99293 non-null  object \n",
      " 5   cust_id            99293 non-null  object \n",
      " 6   tran_date          99293 non-null  object \n",
      " 7   prod_subcat_code   99293 non-null  object \n",
      " 8   Qty                99293 non-null  int64  \n",
      " 9   Rate               99293 non-null  int64  \n",
      " 10  Tax                99293 non-null  float64\n",
      " 11  total_amt          99293 non-null  float64\n",
      " 12  Store_type         99293 non-null  object \n",
      " 13  customer_Id        99293 non-null  object \n",
      " 14  DOB                99293 non-null  object \n",
      " 15  Gender             99253 non-null  object \n",
      " 16  city_code          99293 non-null  object \n",
      "dtypes: float64(2), int64(2), object(13)\n",
      "memory usage: 13.6+ MB\n"
     ]
    }
   ],
   "source": [
    "cust_prod_trans.info()"
   ]
  },
  {
   "cell_type": "markdown",
   "metadata": {},
   "source": [
    "##### b. Top/Bottom 10 observations"
   ]
  },
  {
   "cell_type": "code",
   "execution_count": 69,
   "metadata": {},
   "outputs": [
    {
     "data": {
      "text/html": [
       "<div>\n",
       "<style scoped>\n",
       "    .dataframe tbody tr th:only-of-type {\n",
       "        vertical-align: middle;\n",
       "    }\n",
       "\n",
       "    .dataframe tbody tr th {\n",
       "        vertical-align: top;\n",
       "    }\n",
       "\n",
       "    .dataframe thead th {\n",
       "        text-align: right;\n",
       "    }\n",
       "</style>\n",
       "<table border=\"1\" class=\"dataframe\">\n",
       "  <thead>\n",
       "    <tr style=\"text-align: right;\">\n",
       "      <th></th>\n",
       "      <th>prod_cat_code</th>\n",
       "      <th>prod_cat</th>\n",
       "      <th>prod_sub_cat_code</th>\n",
       "      <th>prod_subcat</th>\n",
       "      <th>transaction_id</th>\n",
       "      <th>cust_id</th>\n",
       "      <th>tran_date</th>\n",
       "      <th>prod_subcat_code</th>\n",
       "      <th>Qty</th>\n",
       "      <th>Rate</th>\n",
       "      <th>Tax</th>\n",
       "      <th>total_amt</th>\n",
       "      <th>Store_type</th>\n",
       "      <th>customer_Id</th>\n",
       "      <th>DOB</th>\n",
       "      <th>Gender</th>\n",
       "      <th>city_code</th>\n",
       "    </tr>\n",
       "  </thead>\n",
       "  <tbody>\n",
       "    <tr>\n",
       "      <th>0</th>\n",
       "      <td>1</td>\n",
       "      <td>Clothing</td>\n",
       "      <td>4</td>\n",
       "      <td>Mens</td>\n",
       "      <td>80712190438</td>\n",
       "      <td>270351</td>\n",
       "      <td>28-02-2014</td>\n",
       "      <td>1</td>\n",
       "      <td>-5</td>\n",
       "      <td>-772</td>\n",
       "      <td>405.300</td>\n",
       "      <td>-4265.300</td>\n",
       "      <td>e-Shop</td>\n",
       "      <td>270351</td>\n",
       "      <td>26-09-1981</td>\n",
       "      <td>M</td>\n",
       "      <td>5.0</td>\n",
       "    </tr>\n",
       "    <tr>\n",
       "      <th>1</th>\n",
       "      <td>1</td>\n",
       "      <td>Clothing</td>\n",
       "      <td>4</td>\n",
       "      <td>Mens</td>\n",
       "      <td>80712190438</td>\n",
       "      <td>270351</td>\n",
       "      <td>20-02-2014</td>\n",
       "      <td>1</td>\n",
       "      <td>5</td>\n",
       "      <td>772</td>\n",
       "      <td>405.300</td>\n",
       "      <td>4265.300</td>\n",
       "      <td>e-Shop</td>\n",
       "      <td>270351</td>\n",
       "      <td>26-09-1981</td>\n",
       "      <td>M</td>\n",
       "      <td>5.0</td>\n",
       "    </tr>\n",
       "    <tr>\n",
       "      <th>2</th>\n",
       "      <td>1</td>\n",
       "      <td>Clothing</td>\n",
       "      <td>1</td>\n",
       "      <td>Women</td>\n",
       "      <td>80712190438</td>\n",
       "      <td>270351</td>\n",
       "      <td>28-02-2014</td>\n",
       "      <td>1</td>\n",
       "      <td>-5</td>\n",
       "      <td>-772</td>\n",
       "      <td>405.300</td>\n",
       "      <td>-4265.300</td>\n",
       "      <td>e-Shop</td>\n",
       "      <td>270351</td>\n",
       "      <td>26-09-1981</td>\n",
       "      <td>M</td>\n",
       "      <td>5.0</td>\n",
       "    </tr>\n",
       "    <tr>\n",
       "      <th>3</th>\n",
       "      <td>1</td>\n",
       "      <td>Clothing</td>\n",
       "      <td>1</td>\n",
       "      <td>Women</td>\n",
       "      <td>80712190438</td>\n",
       "      <td>270351</td>\n",
       "      <td>20-02-2014</td>\n",
       "      <td>1</td>\n",
       "      <td>5</td>\n",
       "      <td>772</td>\n",
       "      <td>405.300</td>\n",
       "      <td>4265.300</td>\n",
       "      <td>e-Shop</td>\n",
       "      <td>270351</td>\n",
       "      <td>26-09-1981</td>\n",
       "      <td>M</td>\n",
       "      <td>5.0</td>\n",
       "    </tr>\n",
       "    <tr>\n",
       "      <th>4</th>\n",
       "      <td>1</td>\n",
       "      <td>Clothing</td>\n",
       "      <td>3</td>\n",
       "      <td>Kids</td>\n",
       "      <td>80712190438</td>\n",
       "      <td>270351</td>\n",
       "      <td>28-02-2014</td>\n",
       "      <td>1</td>\n",
       "      <td>-5</td>\n",
       "      <td>-772</td>\n",
       "      <td>405.300</td>\n",
       "      <td>-4265.300</td>\n",
       "      <td>e-Shop</td>\n",
       "      <td>270351</td>\n",
       "      <td>26-09-1981</td>\n",
       "      <td>M</td>\n",
       "      <td>5.0</td>\n",
       "    </tr>\n",
       "    <tr>\n",
       "      <th>5</th>\n",
       "      <td>1</td>\n",
       "      <td>Clothing</td>\n",
       "      <td>3</td>\n",
       "      <td>Kids</td>\n",
       "      <td>80712190438</td>\n",
       "      <td>270351</td>\n",
       "      <td>20-02-2014</td>\n",
       "      <td>1</td>\n",
       "      <td>5</td>\n",
       "      <td>772</td>\n",
       "      <td>405.300</td>\n",
       "      <td>4265.300</td>\n",
       "      <td>e-Shop</td>\n",
       "      <td>270351</td>\n",
       "      <td>26-09-1981</td>\n",
       "      <td>M</td>\n",
       "      <td>5.0</td>\n",
       "    </tr>\n",
       "    <tr>\n",
       "      <th>6</th>\n",
       "      <td>2</td>\n",
       "      <td>Footwear</td>\n",
       "      <td>1</td>\n",
       "      <td>Mens</td>\n",
       "      <td>36957441426</td>\n",
       "      <td>270351</td>\n",
       "      <td>16-09-2013</td>\n",
       "      <td>3</td>\n",
       "      <td>3</td>\n",
       "      <td>361</td>\n",
       "      <td>113.715</td>\n",
       "      <td>1196.715</td>\n",
       "      <td>Flagship store</td>\n",
       "      <td>270351</td>\n",
       "      <td>26-09-1981</td>\n",
       "      <td>M</td>\n",
       "      <td>5.0</td>\n",
       "    </tr>\n",
       "    <tr>\n",
       "      <th>7</th>\n",
       "      <td>2</td>\n",
       "      <td>Footwear</td>\n",
       "      <td>3</td>\n",
       "      <td>Women</td>\n",
       "      <td>36957441426</td>\n",
       "      <td>270351</td>\n",
       "      <td>16-09-2013</td>\n",
       "      <td>3</td>\n",
       "      <td>3</td>\n",
       "      <td>361</td>\n",
       "      <td>113.715</td>\n",
       "      <td>1196.715</td>\n",
       "      <td>Flagship store</td>\n",
       "      <td>270351</td>\n",
       "      <td>26-09-1981</td>\n",
       "      <td>M</td>\n",
       "      <td>5.0</td>\n",
       "    </tr>\n",
       "    <tr>\n",
       "      <th>8</th>\n",
       "      <td>2</td>\n",
       "      <td>Footwear</td>\n",
       "      <td>4</td>\n",
       "      <td>Kids</td>\n",
       "      <td>36957441426</td>\n",
       "      <td>270351</td>\n",
       "      <td>16-09-2013</td>\n",
       "      <td>3</td>\n",
       "      <td>3</td>\n",
       "      <td>361</td>\n",
       "      <td>113.715</td>\n",
       "      <td>1196.715</td>\n",
       "      <td>Flagship store</td>\n",
       "      <td>270351</td>\n",
       "      <td>26-09-1981</td>\n",
       "      <td>M</td>\n",
       "      <td>5.0</td>\n",
       "    </tr>\n",
       "    <tr>\n",
       "      <th>9</th>\n",
       "      <td>3</td>\n",
       "      <td>Electronics</td>\n",
       "      <td>4</td>\n",
       "      <td>Mobiles</td>\n",
       "      <td>12236277258</td>\n",
       "      <td>270351</td>\n",
       "      <td>18-03-2013</td>\n",
       "      <td>8</td>\n",
       "      <td>3</td>\n",
       "      <td>1030</td>\n",
       "      <td>324.450</td>\n",
       "      <td>3414.450</td>\n",
       "      <td>e-Shop</td>\n",
       "      <td>270351</td>\n",
       "      <td>26-09-1981</td>\n",
       "      <td>M</td>\n",
       "      <td>5.0</td>\n",
       "    </tr>\n",
       "  </tbody>\n",
       "</table>\n",
       "</div>"
      ],
      "text/plain": [
       "   prod_cat_code     prod_cat  prod_sub_cat_code prod_subcat  transaction_id  \\\n",
       "0              1     Clothing                  4        Mens     80712190438   \n",
       "1              1     Clothing                  4        Mens     80712190438   \n",
       "2              1     Clothing                  1       Women     80712190438   \n",
       "3              1     Clothing                  1       Women     80712190438   \n",
       "4              1     Clothing                  3        Kids     80712190438   \n",
       "5              1     Clothing                  3        Kids     80712190438   \n",
       "6              2     Footwear                  1        Mens     36957441426   \n",
       "7              2     Footwear                  3       Women     36957441426   \n",
       "8              2     Footwear                  4        Kids     36957441426   \n",
       "9              3  Electronics                  4     Mobiles     12236277258   \n",
       "\n",
       "   cust_id   tran_date  prod_subcat_code  Qty  Rate      Tax  total_amt  \\\n",
       "0   270351  28-02-2014                 1   -5  -772  405.300  -4265.300   \n",
       "1   270351  20-02-2014                 1    5   772  405.300   4265.300   \n",
       "2   270351  28-02-2014                 1   -5  -772  405.300  -4265.300   \n",
       "3   270351  20-02-2014                 1    5   772  405.300   4265.300   \n",
       "4   270351  28-02-2014                 1   -5  -772  405.300  -4265.300   \n",
       "5   270351  20-02-2014                 1    5   772  405.300   4265.300   \n",
       "6   270351  16-09-2013                 3    3   361  113.715   1196.715   \n",
       "7   270351  16-09-2013                 3    3   361  113.715   1196.715   \n",
       "8   270351  16-09-2013                 3    3   361  113.715   1196.715   \n",
       "9   270351  18-03-2013                 8    3  1030  324.450   3414.450   \n",
       "\n",
       "       Store_type  customer_Id         DOB Gender  city_code  \n",
       "0          e-Shop       270351  26-09-1981      M        5.0  \n",
       "1          e-Shop       270351  26-09-1981      M        5.0  \n",
       "2          e-Shop       270351  26-09-1981      M        5.0  \n",
       "3          e-Shop       270351  26-09-1981      M        5.0  \n",
       "4          e-Shop       270351  26-09-1981      M        5.0  \n",
       "5          e-Shop       270351  26-09-1981      M        5.0  \n",
       "6  Flagship store       270351  26-09-1981      M        5.0  \n",
       "7  Flagship store       270351  26-09-1981      M        5.0  \n",
       "8  Flagship store       270351  26-09-1981      M        5.0  \n",
       "9          e-Shop       270351  26-09-1981      M        5.0  "
      ]
     },
     "execution_count": 69,
     "metadata": {},
     "output_type": "execute_result"
    }
   ],
   "source": [
    "cust_prod_trans.head(10)"
   ]
  },
  {
   "cell_type": "code",
   "execution_count": 70,
   "metadata": {},
   "outputs": [
    {
     "data": {
      "text/html": [
       "<div>\n",
       "<style scoped>\n",
       "    .dataframe tbody tr th:only-of-type {\n",
       "        vertical-align: middle;\n",
       "    }\n",
       "\n",
       "    .dataframe tbody tr th {\n",
       "        vertical-align: top;\n",
       "    }\n",
       "\n",
       "    .dataframe thead th {\n",
       "        text-align: right;\n",
       "    }\n",
       "</style>\n",
       "<table border=\"1\" class=\"dataframe\">\n",
       "  <thead>\n",
       "    <tr style=\"text-align: right;\">\n",
       "      <th></th>\n",
       "      <th>prod_cat_code</th>\n",
       "      <th>prod_cat</th>\n",
       "      <th>prod_sub_cat_code</th>\n",
       "      <th>prod_subcat</th>\n",
       "      <th>transaction_id</th>\n",
       "      <th>cust_id</th>\n",
       "      <th>tran_date</th>\n",
       "      <th>prod_subcat_code</th>\n",
       "      <th>Qty</th>\n",
       "      <th>Rate</th>\n",
       "      <th>Tax</th>\n",
       "      <th>total_amt</th>\n",
       "      <th>Store_type</th>\n",
       "      <th>customer_Id</th>\n",
       "      <th>DOB</th>\n",
       "      <th>Gender</th>\n",
       "      <th>city_code</th>\n",
       "    </tr>\n",
       "  </thead>\n",
       "  <tbody>\n",
       "    <tr>\n",
       "      <th>99283</th>\n",
       "      <td>6</td>\n",
       "      <td>Home and kitchen</td>\n",
       "      <td>11</td>\n",
       "      <td>Bath</td>\n",
       "      <td>96622725554</td>\n",
       "      <td>267539</td>\n",
       "      <td>21-03-2011</td>\n",
       "      <td>11</td>\n",
       "      <td>5</td>\n",
       "      <td>1360</td>\n",
       "      <td>714.00</td>\n",
       "      <td>7514.00</td>\n",
       "      <td>e-Shop</td>\n",
       "      <td>267539</td>\n",
       "      <td>25-01-1989</td>\n",
       "      <td>F</td>\n",
       "      <td>6.0</td>\n",
       "    </tr>\n",
       "    <tr>\n",
       "      <th>99284</th>\n",
       "      <td>6</td>\n",
       "      <td>Home and kitchen</td>\n",
       "      <td>12</td>\n",
       "      <td>Tools</td>\n",
       "      <td>96622725554</td>\n",
       "      <td>267539</td>\n",
       "      <td>21-03-2011</td>\n",
       "      <td>11</td>\n",
       "      <td>5</td>\n",
       "      <td>1360</td>\n",
       "      <td>714.00</td>\n",
       "      <td>7514.00</td>\n",
       "      <td>e-Shop</td>\n",
       "      <td>267539</td>\n",
       "      <td>25-01-1989</td>\n",
       "      <td>F</td>\n",
       "      <td>6.0</td>\n",
       "    </tr>\n",
       "    <tr>\n",
       "      <th>99285</th>\n",
       "      <td>6</td>\n",
       "      <td>Home and kitchen</td>\n",
       "      <td>2</td>\n",
       "      <td>Furnishing</td>\n",
       "      <td>65823235153</td>\n",
       "      <td>272650</td>\n",
       "      <td>16-02-2011</td>\n",
       "      <td>11</td>\n",
       "      <td>2</td>\n",
       "      <td>358</td>\n",
       "      <td>75.18</td>\n",
       "      <td>791.18</td>\n",
       "      <td>e-Shop</td>\n",
       "      <td>272650</td>\n",
       "      <td>28-02-1990</td>\n",
       "      <td>M</td>\n",
       "      <td>2.0</td>\n",
       "    </tr>\n",
       "    <tr>\n",
       "      <th>99286</th>\n",
       "      <td>6</td>\n",
       "      <td>Home and kitchen</td>\n",
       "      <td>10</td>\n",
       "      <td>Kitchen</td>\n",
       "      <td>65823235153</td>\n",
       "      <td>272650</td>\n",
       "      <td>16-02-2011</td>\n",
       "      <td>11</td>\n",
       "      <td>2</td>\n",
       "      <td>358</td>\n",
       "      <td>75.18</td>\n",
       "      <td>791.18</td>\n",
       "      <td>e-Shop</td>\n",
       "      <td>272650</td>\n",
       "      <td>28-02-1990</td>\n",
       "      <td>M</td>\n",
       "      <td>2.0</td>\n",
       "    </tr>\n",
       "    <tr>\n",
       "      <th>99287</th>\n",
       "      <td>6</td>\n",
       "      <td>Home and kitchen</td>\n",
       "      <td>11</td>\n",
       "      <td>Bath</td>\n",
       "      <td>65823235153</td>\n",
       "      <td>272650</td>\n",
       "      <td>16-02-2011</td>\n",
       "      <td>11</td>\n",
       "      <td>2</td>\n",
       "      <td>358</td>\n",
       "      <td>75.18</td>\n",
       "      <td>791.18</td>\n",
       "      <td>e-Shop</td>\n",
       "      <td>272650</td>\n",
       "      <td>28-02-1990</td>\n",
       "      <td>M</td>\n",
       "      <td>2.0</td>\n",
       "    </tr>\n",
       "    <tr>\n",
       "      <th>99288</th>\n",
       "      <td>6</td>\n",
       "      <td>Home and kitchen</td>\n",
       "      <td>12</td>\n",
       "      <td>Tools</td>\n",
       "      <td>65823235153</td>\n",
       "      <td>272650</td>\n",
       "      <td>16-02-2011</td>\n",
       "      <td>11</td>\n",
       "      <td>2</td>\n",
       "      <td>358</td>\n",
       "      <td>75.18</td>\n",
       "      <td>791.18</td>\n",
       "      <td>e-Shop</td>\n",
       "      <td>272650</td>\n",
       "      <td>28-02-1990</td>\n",
       "      <td>M</td>\n",
       "      <td>2.0</td>\n",
       "    </tr>\n",
       "    <tr>\n",
       "      <th>99289</th>\n",
       "      <td>6</td>\n",
       "      <td>Home and kitchen</td>\n",
       "      <td>2</td>\n",
       "      <td>Furnishing</td>\n",
       "      <td>20417144530</td>\n",
       "      <td>269556</td>\n",
       "      <td>29-01-2011</td>\n",
       "      <td>10</td>\n",
       "      <td>3</td>\n",
       "      <td>654</td>\n",
       "      <td>206.01</td>\n",
       "      <td>2168.01</td>\n",
       "      <td>Flagship store</td>\n",
       "      <td>269556</td>\n",
       "      <td>27-12-1972</td>\n",
       "      <td>M</td>\n",
       "      <td>5.0</td>\n",
       "    </tr>\n",
       "    <tr>\n",
       "      <th>99290</th>\n",
       "      <td>6</td>\n",
       "      <td>Home and kitchen</td>\n",
       "      <td>10</td>\n",
       "      <td>Kitchen</td>\n",
       "      <td>20417144530</td>\n",
       "      <td>269556</td>\n",
       "      <td>29-01-2011</td>\n",
       "      <td>10</td>\n",
       "      <td>3</td>\n",
       "      <td>654</td>\n",
       "      <td>206.01</td>\n",
       "      <td>2168.01</td>\n",
       "      <td>Flagship store</td>\n",
       "      <td>269556</td>\n",
       "      <td>27-12-1972</td>\n",
       "      <td>M</td>\n",
       "      <td>5.0</td>\n",
       "    </tr>\n",
       "    <tr>\n",
       "      <th>99291</th>\n",
       "      <td>6</td>\n",
       "      <td>Home and kitchen</td>\n",
       "      <td>11</td>\n",
       "      <td>Bath</td>\n",
       "      <td>20417144530</td>\n",
       "      <td>269556</td>\n",
       "      <td>29-01-2011</td>\n",
       "      <td>10</td>\n",
       "      <td>3</td>\n",
       "      <td>654</td>\n",
       "      <td>206.01</td>\n",
       "      <td>2168.01</td>\n",
       "      <td>Flagship store</td>\n",
       "      <td>269556</td>\n",
       "      <td>27-12-1972</td>\n",
       "      <td>M</td>\n",
       "      <td>5.0</td>\n",
       "    </tr>\n",
       "    <tr>\n",
       "      <th>99292</th>\n",
       "      <td>6</td>\n",
       "      <td>Home and kitchen</td>\n",
       "      <td>12</td>\n",
       "      <td>Tools</td>\n",
       "      <td>20417144530</td>\n",
       "      <td>269556</td>\n",
       "      <td>29-01-2011</td>\n",
       "      <td>10</td>\n",
       "      <td>3</td>\n",
       "      <td>654</td>\n",
       "      <td>206.01</td>\n",
       "      <td>2168.01</td>\n",
       "      <td>Flagship store</td>\n",
       "      <td>269556</td>\n",
       "      <td>27-12-1972</td>\n",
       "      <td>M</td>\n",
       "      <td>5.0</td>\n",
       "    </tr>\n",
       "  </tbody>\n",
       "</table>\n",
       "</div>"
      ],
      "text/plain": [
       "       prod_cat_code          prod_cat  prod_sub_cat_code prod_subcat  \\\n",
       "99283              6  Home and kitchen                 11        Bath   \n",
       "99284              6  Home and kitchen                 12       Tools   \n",
       "99285              6  Home and kitchen                  2  Furnishing   \n",
       "99286              6  Home and kitchen                 10     Kitchen   \n",
       "99287              6  Home and kitchen                 11        Bath   \n",
       "99288              6  Home and kitchen                 12       Tools   \n",
       "99289              6  Home and kitchen                  2  Furnishing   \n",
       "99290              6  Home and kitchen                 10     Kitchen   \n",
       "99291              6  Home and kitchen                 11        Bath   \n",
       "99292              6  Home and kitchen                 12       Tools   \n",
       "\n",
       "       transaction_id  cust_id   tran_date  prod_subcat_code  Qty  Rate  \\\n",
       "99283     96622725554   267539  21-03-2011                11    5  1360   \n",
       "99284     96622725554   267539  21-03-2011                11    5  1360   \n",
       "99285     65823235153   272650  16-02-2011                11    2   358   \n",
       "99286     65823235153   272650  16-02-2011                11    2   358   \n",
       "99287     65823235153   272650  16-02-2011                11    2   358   \n",
       "99288     65823235153   272650  16-02-2011                11    2   358   \n",
       "99289     20417144530   269556  29-01-2011                10    3   654   \n",
       "99290     20417144530   269556  29-01-2011                10    3   654   \n",
       "99291     20417144530   269556  29-01-2011                10    3   654   \n",
       "99292     20417144530   269556  29-01-2011                10    3   654   \n",
       "\n",
       "          Tax  total_amt      Store_type  customer_Id         DOB Gender  \\\n",
       "99283  714.00    7514.00          e-Shop       267539  25-01-1989      F   \n",
       "99284  714.00    7514.00          e-Shop       267539  25-01-1989      F   \n",
       "99285   75.18     791.18          e-Shop       272650  28-02-1990      M   \n",
       "99286   75.18     791.18          e-Shop       272650  28-02-1990      M   \n",
       "99287   75.18     791.18          e-Shop       272650  28-02-1990      M   \n",
       "99288   75.18     791.18          e-Shop       272650  28-02-1990      M   \n",
       "99289  206.01    2168.01  Flagship store       269556  27-12-1972      M   \n",
       "99290  206.01    2168.01  Flagship store       269556  27-12-1972      M   \n",
       "99291  206.01    2168.01  Flagship store       269556  27-12-1972      M   \n",
       "99292  206.01    2168.01  Flagship store       269556  27-12-1972      M   \n",
       "\n",
       "       city_code  \n",
       "99283        6.0  \n",
       "99284        6.0  \n",
       "99285        2.0  \n",
       "99286        2.0  \n",
       "99287        2.0  \n",
       "99288        2.0  \n",
       "99289        5.0  \n",
       "99290        5.0  \n",
       "99291        5.0  \n",
       "99292        5.0  "
      ]
     },
     "execution_count": 70,
     "metadata": {},
     "output_type": "execute_result"
    }
   ],
   "source": [
    "cust_prod_trans.tail(10)"
   ]
  },
  {
   "cell_type": "markdown",
   "metadata": {},
   "source": [
    "##### c. “Five-number summary” for continuous variables (min, Q1, median, Q3 and max)\n"
   ]
  },
  {
   "cell_type": "code",
   "execution_count": 71,
   "metadata": {},
   "outputs": [
    {
     "data": {
      "text/plain": [
       "0         4\n",
       "1         4\n",
       "2         1\n",
       "3         1\n",
       "4         3\n",
       "         ..\n",
       "99288    12\n",
       "99289     2\n",
       "99290    10\n",
       "99291    11\n",
       "99292    12\n",
       "Name: prod_sub_cat_code, Length: 99293, dtype: int64"
      ]
     },
     "execution_count": 71,
     "metadata": {},
     "output_type": "execute_result"
    }
   ],
   "source": [
    "cust_prod_trans.prod_sub_cat_code"
   ]
  },
  {
   "cell_type": "code",
   "execution_count": 79,
   "metadata": {},
   "outputs": [],
   "source": [
    "# converting the datatype of 'prod_cat_code', 'prod_sub_cat_code', 'transaction_id', 'cust_id', 'prod_subcat_code', \n",
    "# 'customer_Id', 'city_code' columns to object.\n",
    "\n",
    "for i in ['prod_cat_code', 'prod_sub_cat_code', 'transaction_id', 'cust_id', 'prod_subcat_code', 'customer_Id', 'city_code']:\n",
    "    cust_prod_trans[i]= cust_prod_trans[i].astype(str)"
   ]
  },
  {
   "cell_type": "code",
   "execution_count": 81,
   "metadata": {},
   "outputs": [
    {
     "data": {
      "text/html": [
       "<div>\n",
       "<style scoped>\n",
       "    .dataframe tbody tr th:only-of-type {\n",
       "        vertical-align: middle;\n",
       "    }\n",
       "\n",
       "    .dataframe tbody tr th {\n",
       "        vertical-align: top;\n",
       "    }\n",
       "\n",
       "    .dataframe thead th {\n",
       "        text-align: right;\n",
       "    }\n",
       "</style>\n",
       "<table border=\"1\" class=\"dataframe\">\n",
       "  <thead>\n",
       "    <tr style=\"text-align: right;\">\n",
       "      <th></th>\n",
       "      <th>Qty</th>\n",
       "      <th>Rate</th>\n",
       "      <th>Tax</th>\n",
       "      <th>total_amt</th>\n",
       "    </tr>\n",
       "  </thead>\n",
       "  <tbody>\n",
       "    <tr>\n",
       "      <th>count</th>\n",
       "      <td>99293.000000</td>\n",
       "      <td>99293.000000</td>\n",
       "      <td>99293.000000</td>\n",
       "      <td>99293.000000</td>\n",
       "    </tr>\n",
       "    <tr>\n",
       "      <th>mean</th>\n",
       "      <td>2.438017</td>\n",
       "      <td>637.919884</td>\n",
       "      <td>248.873736</td>\n",
       "      <td>2114.616420</td>\n",
       "    </tr>\n",
       "    <tr>\n",
       "      <th>std</th>\n",
       "      <td>2.260726</td>\n",
       "      <td>621.576326</td>\n",
       "      <td>187.014422</td>\n",
       "      <td>2502.306768</td>\n",
       "    </tr>\n",
       "    <tr>\n",
       "      <th>min</th>\n",
       "      <td>-5.000000</td>\n",
       "      <td>-1499.000000</td>\n",
       "      <td>7.350000</td>\n",
       "      <td>-8270.925000</td>\n",
       "    </tr>\n",
       "    <tr>\n",
       "      <th>25%</th>\n",
       "      <td>1.000000</td>\n",
       "      <td>313.000000</td>\n",
       "      <td>98.280000</td>\n",
       "      <td>762.450000</td>\n",
       "    </tr>\n",
       "    <tr>\n",
       "      <th>50%</th>\n",
       "      <td>3.000000</td>\n",
       "      <td>713.000000</td>\n",
       "      <td>199.920000</td>\n",
       "      <td>1761.370000</td>\n",
       "    </tr>\n",
       "    <tr>\n",
       "      <th>75%</th>\n",
       "      <td>4.000000</td>\n",
       "      <td>1109.000000</td>\n",
       "      <td>366.975000</td>\n",
       "      <td>3585.725000</td>\n",
       "    </tr>\n",
       "    <tr>\n",
       "      <th>max</th>\n",
       "      <td>5.000000</td>\n",
       "      <td>1500.000000</td>\n",
       "      <td>787.500000</td>\n",
       "      <td>8287.500000</td>\n",
       "    </tr>\n",
       "  </tbody>\n",
       "</table>\n",
       "</div>"
      ],
      "text/plain": [
       "                Qty          Rate           Tax     total_amt\n",
       "count  99293.000000  99293.000000  99293.000000  99293.000000\n",
       "mean       2.438017    637.919884    248.873736   2114.616420\n",
       "std        2.260726    621.576326    187.014422   2502.306768\n",
       "min       -5.000000  -1499.000000      7.350000  -8270.925000\n",
       "25%        1.000000    313.000000     98.280000    762.450000\n",
       "50%        3.000000    713.000000    199.920000   1761.370000\n",
       "75%        4.000000   1109.000000    366.975000   3585.725000\n",
       "max        5.000000   1500.000000    787.500000   8287.500000"
      ]
     },
     "execution_count": 81,
     "metadata": {},
     "output_type": "execute_result"
    }
   ],
   "source": [
    "cust_prod_trans.describe()"
   ]
  },
  {
   "cell_type": "markdown",
   "metadata": {},
   "source": [
    "##### d. Frequency tables for all the categorical variables"
   ]
  },
  {
   "cell_type": "code",
   "execution_count": 92,
   "metadata": {
    "scrolled": false
   },
   "outputs": [
    {
     "name": "stdout",
     "output_type": "stream",
     "text": [
      "Frequency table for prod_cat_code\n",
      "5    36414\n",
      "3    24490\n",
      "6    16516\n",
      "2     8997\n",
      "1     8880\n",
      "4     3996\n",
      "Name: prod_cat_code, dtype: int64\n",
      "\n",
      "\n",
      "Frequency table for prod_cat\n",
      "Books               36414\n",
      "Electronics         24490\n",
      "Home and kitchen    16516\n",
      "Footwear             8997\n",
      "Clothing             8880\n",
      "Bags                 3996\n",
      "Name: prod_cat, dtype: int64\n",
      "\n",
      "\n",
      "Frequency table for prod_sub_cat_code\n",
      "10    15096\n",
      "4     12855\n",
      "3     12028\n",
      "11    10198\n",
      "12    10198\n",
      "1      7957\n",
      "6      6069\n",
      "7      6069\n",
      "5      4898\n",
      "8      4898\n",
      "9      4898\n",
      "2      4129\n",
      "Name: prod_sub_cat_code, dtype: int64\n",
      "\n",
      "\n",
      "Frequency table for prod_subcat\n",
      "Women                  7957\n",
      "Mens                   7957\n",
      "Children               6069\n",
      "Fiction                6069\n",
      "Comics                 6069\n",
      "Academic               6069\n",
      "Non-Fiction            6069\n",
      "DIY                    6069\n",
      "Kids                   5959\n",
      "Computers              4898\n",
      "Cameras                4898\n",
      "Mobiles                4898\n",
      "Audio and video        4898\n",
      "Personal Appliances    4898\n",
      "Bath                   4129\n",
      "Kitchen                4129\n",
      "Tools                  4129\n",
      "Furnishing             4129\n",
      "Name: prod_subcat, dtype: int64\n",
      "\n",
      "\n",
      "Frequency table for transaction_id\n",
      "4170892941     20\n",
      "98271941861    18\n",
      "27975020881    18\n",
      "85861933577    18\n",
      "91377906980    18\n",
      "               ..\n",
      "91539933155     2\n",
      "57665834939     2\n",
      "21737622909     2\n",
      "3061203474      2\n",
      "64590004273     2\n",
      "Name: transaction_id, Length: 20878, dtype: int64\n",
      "\n",
      "\n",
      "Frequency table for cust_id\n",
      "268819    63\n",
      "268663    59\n",
      "270908    56\n",
      "272415    55\n",
      "272526    54\n",
      "          ..\n",
      "267331     2\n",
      "272010     2\n",
      "273867     2\n",
      "269114     2\n",
      "269074     2\n",
      "Name: cust_id, Length: 5506, dtype: int64\n",
      "\n",
      "\n",
      "Frequency table for tran_date\n",
      "25-08-2012    153\n",
      "13-07-2011    144\n",
      "25-09-2011    144\n",
      "3/2/2014      142\n",
      "21-12-2013    141\n",
      "             ... \n",
      "23-02-2014     11\n",
      "24-02-2014     10\n",
      "21-02-2014      5\n",
      "27-02-2014      5\n",
      "28-02-2014      3\n",
      "Name: tran_date, Length: 1129, dtype: int64\n",
      "\n",
      "\n",
      "Frequency table for prod_subcat_code\n",
      "10    14932\n",
      "4     13073\n",
      "3     12294\n",
      "11    10302\n",
      "12    10050\n",
      "1      7847\n",
      "7      6258\n",
      "6      5934\n",
      "9      4925\n",
      "8      4860\n",
      "5      4790\n",
      "2      4028\n",
      "Name: prod_subcat_code, dtype: int64\n",
      "\n",
      "\n",
      "Frequency table for Store_type\n",
      "e-Shop            40185\n",
      "MBR               19974\n",
      "Flagship store    19814\n",
      "TeleShop          19320\n",
      "Name: Store_type, dtype: int64\n",
      "\n",
      "\n",
      "Frequency table for customer_Id\n",
      "268819    63\n",
      "268663    59\n",
      "270908    56\n",
      "272415    55\n",
      "272526    54\n",
      "          ..\n",
      "267331     2\n",
      "272010     2\n",
      "273867     2\n",
      "269114     2\n",
      "269074     2\n",
      "Name: customer_Id, Length: 5506, dtype: int64\n",
      "\n",
      "\n",
      "Frequency table for DOB\n",
      "27-12-1988    156\n",
      "17-09-1982    134\n",
      "25-02-1974    126\n",
      "18-11-1991    114\n",
      "09-06-1970    107\n",
      "             ... \n",
      "22-10-1980      2\n",
      "18-11-1970      2\n",
      "08-09-1984      2\n",
      "11-10-1991      2\n",
      "18-12-1973      2\n",
      "Name: DOB, Length: 3987, dtype: int64\n",
      "\n",
      "\n",
      "Frequency table for Gender\n",
      "M    51051\n",
      "F    48202\n",
      "Name: Gender, dtype: int64\n",
      "\n",
      "\n",
      "Frequency table for city_code\n",
      "4.0     10571\n",
      "3.0     10467\n",
      "7.0     10258\n",
      "5.0     10116\n",
      "10.0     9976\n",
      "8.0      9965\n",
      "2.0      9843\n",
      "1.0      9717\n",
      "9.0      9214\n",
      "6.0      9130\n",
      "nan        36\n",
      "Name: city_code, dtype: int64\n",
      "\n",
      "\n"
     ]
    }
   ],
   "source": [
    "for i in cust_prod_trans.columns:\n",
    "    if cust_prod_trans[i].dtype=='object':\n",
    "        print('Frequency table for', i)\n",
    "        print(cust_prod_trans[i].value_counts())\n",
    "        print('\\n')"
   ]
  },
  {
   "cell_type": "markdown",
   "metadata": {},
   "source": [
    "#### 3. Generate histograms for all continuous variables and frequency bars for categorical variables."
   ]
  },
  {
   "cell_type": "code",
   "execution_count": 116,
   "metadata": {},
   "outputs": [
    {
     "name": "stdout",
     "output_type": "stream",
     "text": [
      "AxesSubplot(0.125,0.125;0.775x0.755)\n"
     ]
    },
    {
     "data": {
      "image/png": "[encoded data removed]",
      "text/plain": [
       "<Figure size 432x288 with 1 Axes>"
      ]
     },
     "metadata": {
      "needs_background": "light"
     },
     "output_type": "display_data"
    },
    {
     "name": "stdout",
     "output_type": "stream",
     "text": [
      "AxesSubplot(0.125,0.125;0.775x0.755)\n"
     ]
    },
    {
     "data": {
      "image/png": "[encoded data removed]",
      "text/plain": [
       "<Figure size 432x288 with 1 Axes>"
      ]
     },
     "metadata": {
      "needs_background": "light"
     },
     "output_type": "display_data"
    },
    {
     "name": "stdout",
     "output_type": "stream",
     "text": [
      "AxesSubplot(0.125,0.125;0.775x0.755)\n"
     ]
    },
    {
     "data": {
      "image/png": "[encoded data removed]",
      "text/plain": [
       "<Figure size 432x288 with 1 Axes>"
      ]
     },
     "metadata": {
      "needs_background": "light"
     },
     "output_type": "display_data"
    },
    {
     "name": "stdout",
     "output_type": "stream",
     "text": [
      "AxesSubplot(0.125,0.125;0.775x0.755)\n"
     ]
    },
    {
     "data": {
      "image/png": "[encoded data removed]",
      "text/plain": [
       "<Figure size 432x288 with 1 Axes>"
      ]
     },
     "metadata": {
      "needs_background": "light"
     },
     "output_type": "display_data"
    },
    {
     "name": "stdout",
     "output_type": "stream",
     "text": [
      "AxesSubplot(0.125,0.125;0.775x0.755)\n"
     ]
    },
    {
     "data": {
      "image/png": "[encoded data removed]",
      "text/plain": [
       "<Figure size 432x288 with 1 Axes>"
      ]
     },
     "metadata": {
      "needs_background": "light"
     },
     "output_type": "display_data"
    },
    {
     "name": "stdout",
     "output_type": "stream",
     "text": [
      "AxesSubplot(0.125,0.125;0.775x0.755)\n"
     ]
    },
    {
     "data": {
      "image/png": "[encoded data removed]",
      "text/plain": [
       "<Figure size 432x288 with 1 Axes>"
      ]
     },
     "metadata": {
      "needs_background": "light"
     },
     "output_type": "display_data"
    },
    {
     "name": "stdout",
     "output_type": "stream",
     "text": [
      "AxesSubplot(0.125,0.125;0.775x0.755)\n"
     ]
    },
    {
     "data": {
      "image/png": "[encoded data removed]",
      "text/plain": [
       "<Figure size 432x288 with 1 Axes>"
      ]
     },
     "metadata": {
      "needs_background": "light"
     },
     "output_type": "display_data"
    },
    {
     "name": "stdout",
     "output_type": "stream",
     "text": [
      "AxesSubplot(0.125,0.125;0.775x0.755)\n"
     ]
    },
    {
     "data": {
      "image/png": "[encoded data removed]",
      "text/plain": [
       "<Figure size 432x288 with 1 Axes>"
      ]
     },
     "metadata": {
      "needs_background": "light"
     },
     "output_type": "display_data"
    },
    {
     "name": "stdout",
     "output_type": "stream",
     "text": [
      "AxesSubplot(0.125,0.125;0.775x0.755)\n"
     ]
    },
    {
     "data": {
      "image/png": "[encoded data removed]",
      "text/plain": [
       "<Figure size 432x288 with 1 Axes>"
      ]
     },
     "metadata": {
      "needs_background": "light"
     },
     "output_type": "display_data"
    },
    {
     "name": "stdout",
     "output_type": "stream",
     "text": [
      "AxesSubplot(0.125,0.125;0.775x0.755)\n"
     ]
    },
    {
     "data": {
      "image/png": "[encoded data removed]",
      "text/plain": [
       "<Figure size 432x288 with 1 Axes>"
      ]
     },
     "metadata": {
      "needs_background": "light"
     },
     "output_type": "display_data"
    },
    {
     "name": "stdout",
     "output_type": "stream",
     "text": [
      "AxesSubplot(0.125,0.125;0.775x0.755)\n"
     ]
    },
    {
     "data": {
      "image/png": "[encoded data removed]",
      "text/plain": [
       "<Figure size 432x288 with 1 Axes>"
      ]
     },
     "metadata": {
      "needs_background": "light"
     },
     "output_type": "display_data"
    },
    {
     "name": "stdout",
     "output_type": "stream",
     "text": [
      "AxesSubplot(0.125,0.125;0.775x0.755)\n"
     ]
    },
    {
     "data": {
      "image/png": "[encoded data removed]",
      "text/plain": [
       "<Figure size 432x288 with 1 Axes>"
      ]
     },
     "metadata": {
      "needs_background": "light"
     },
     "output_type": "display_data"
    },
    {
     "name": "stdout",
     "output_type": "stream",
     "text": [
      "AxesSubplot(0.125,0.125;0.775x0.755)\n"
     ]
    },
    {
     "data": {
      "image/png": "[encoded data removed]",
      "text/plain": [
       "<Figure size 432x288 with 1 Axes>"
      ]
     },
     "metadata": {
      "needs_background": "light"
     },
     "output_type": "display_data"
    },
    {
     "name": "stdout",
     "output_type": "stream",
     "text": [
      "AxesSubplot(0.125,0.125;0.775x0.755)\n"
     ]
    },
    {
     "data": {
      "image/png": "[encoded data removed]",
      "text/plain": [
       "<Figure size 432x288 with 1 Axes>"
      ]
     },
     "metadata": {
      "needs_background": "light"
     },
     "output_type": "display_data"
    },
    {
     "name": "stdout",
     "output_type": "stream",
     "text": [
      "AxesSubplot(0.125,0.125;0.775x0.755)\n"
     ]
    },
    {
     "data": {
      "image/png": "[encoded data removed]",
      "text/plain": [
       "<Figure size 432x288 with 1 Axes>"
      ]
     },
     "metadata": {
      "needs_background": "light"
     },
     "output_type": "display_data"
    },
    {
     "name": "stdout",
     "output_type": "stream",
     "text": [
      "AxesSubplot(0.125,0.125;0.775x0.755)\n"
     ]
    },
    {
     "data": {
      "image/png": "[encoded data removed]",
      "text/plain": [
       "<Figure size 432x288 with 1 Axes>"
      ]
     },
     "metadata": {
      "needs_background": "light"
     },
     "output_type": "display_data"
    },
    {
     "name": "stdout",
     "output_type": "stream",
     "text": [
      "AxesSubplot(0.125,0.125;0.775x0.755)\n"
     ]
    },
    {
     "data": {
      "image/png": "[encoded data removed]",
      "text/plain": [
       "<Figure size 432x288 with 1 Axes>"
      ]
     },
     "metadata": {
      "needs_background": "light"
     },
     "output_type": "display_data"
    }
   ],
   "source": [
    "for i in cust_prod_trans.columns:\n",
    "    if cust_prod_trans[i].dtype in ['float64', 'int64']:\n",
    "        plt.title('This is histogram for variable ' + i)\n",
    "        print(cust_prod_trans[i].plot(kind= 'hist'))\n",
    "        plt.show()\n",
    "    else:\n",
    "        plt.title('This is bar graph for variable '+ i )\n",
    "        print(cust_prod_trans[i].value_counts().plot(kind= 'bar'))\n",
    "        plt.show()\n",
    "    "
   ]
  },
  {
   "cell_type": "markdown",
   "metadata": {},
   "source": [
    "#### 4. Calculate the following information using the merged dataset :\n",
    "##### a. Time period of the available transaction data"
   ]
  },
  {
   "cell_type": "code",
   "execution_count": 117,
   "metadata": {},
   "outputs": [
    {
     "data": {
      "text/plain": [
       "Index(['prod_cat_code', 'prod_cat', 'prod_sub_cat_code', 'prod_subcat',\n",
       "       'transaction_id', 'cust_id', 'tran_date', 'prod_subcat_code', 'Qty',\n",
       "       'Rate', 'Tax', 'total_amt', 'Store_type', 'customer_Id', 'DOB',\n",
       "       'Gender', 'city_code'],\n",
       "      dtype='object')"
      ]
     },
     "execution_count": 117,
     "metadata": {},
     "output_type": "execute_result"
    }
   ],
   "source": [
    "cust_prod_trans.columns"
   ]
  },
  {
   "cell_type": "code",
   "execution_count": 121,
   "metadata": {},
   "outputs": [],
   "source": [
    "cust_prod_trans.tran_date= pd.to_datetime(cust_prod_trans.tran_date)\n",
    "cust_prod_trans.DOB= pd.to_datetime(cust_prod_trans.DOB)"
   ]
  },
  {
   "cell_type": "code",
   "execution_count": 123,
   "metadata": {},
   "outputs": [
    {
     "data": {
      "text/plain": [
       "Timedelta('1430 days 00:00:00')"
      ]
     },
     "execution_count": 123,
     "metadata": {},
     "output_type": "execute_result"
    }
   ],
   "source": [
    "max(cust_prod_trans.tran_date) - min(cust_prod_trans.tran_date)"
   ]
  },
  {
   "cell_type": "markdown",
   "metadata": {},
   "source": [
    " ##### b. Count of transactions where the total amount of transaction was negative]\n",
    "    "
   ]
  },
  {
   "cell_type": "code",
   "execution_count": 127,
   "metadata": {},
   "outputs": [
    {
     "data": {
      "text/html": [
       "<div>\n",
       "<style scoped>\n",
       "    .dataframe tbody tr th:only-of-type {\n",
       "        vertical-align: middle;\n",
       "    }\n",
       "\n",
       "    .dataframe tbody tr th {\n",
       "        vertical-align: top;\n",
       "    }\n",
       "\n",
       "    .dataframe thead th {\n",
       "        text-align: right;\n",
       "    }\n",
       "</style>\n",
       "<table border=\"1\" class=\"dataframe\">\n",
       "  <thead>\n",
       "    <tr style=\"text-align: right;\">\n",
       "      <th></th>\n",
       "      <th>prod_cat_code</th>\n",
       "      <th>prod_cat</th>\n",
       "      <th>prod_sub_cat_code</th>\n",
       "      <th>prod_subcat</th>\n",
       "      <th>transaction_id</th>\n",
       "      <th>cust_id</th>\n",
       "      <th>tran_date</th>\n",
       "      <th>prod_subcat_code</th>\n",
       "      <th>Qty</th>\n",
       "      <th>Rate</th>\n",
       "      <th>Tax</th>\n",
       "      <th>total_amt</th>\n",
       "      <th>Store_type</th>\n",
       "      <th>customer_Id</th>\n",
       "      <th>DOB</th>\n",
       "      <th>Gender</th>\n",
       "      <th>city_code</th>\n",
       "    </tr>\n",
       "  </thead>\n",
       "  <tbody>\n",
       "    <tr>\n",
       "      <th>0</th>\n",
       "      <td>1</td>\n",
       "      <td>Clothing</td>\n",
       "      <td>4</td>\n",
       "      <td>Mens</td>\n",
       "      <td>80712190438</td>\n",
       "      <td>270351</td>\n",
       "      <td>2014-02-28</td>\n",
       "      <td>1</td>\n",
       "      <td>-5</td>\n",
       "      <td>-772</td>\n",
       "      <td>405.3</td>\n",
       "      <td>-4265.3</td>\n",
       "      <td>e-Shop</td>\n",
       "      <td>270351</td>\n",
       "      <td>1981-09-26</td>\n",
       "      <td>M</td>\n",
       "      <td>5.0</td>\n",
       "    </tr>\n",
       "    <tr>\n",
       "      <th>1</th>\n",
       "      <td>1</td>\n",
       "      <td>Clothing</td>\n",
       "      <td>4</td>\n",
       "      <td>Mens</td>\n",
       "      <td>80712190438</td>\n",
       "      <td>270351</td>\n",
       "      <td>2014-02-20</td>\n",
       "      <td>1</td>\n",
       "      <td>5</td>\n",
       "      <td>772</td>\n",
       "      <td>405.3</td>\n",
       "      <td>4265.3</td>\n",
       "      <td>e-Shop</td>\n",
       "      <td>270351</td>\n",
       "      <td>1981-09-26</td>\n",
       "      <td>M</td>\n",
       "      <td>5.0</td>\n",
       "    </tr>\n",
       "  </tbody>\n",
       "</table>\n",
       "</div>"
      ],
      "text/plain": [
       "  prod_cat_code  prod_cat prod_sub_cat_code prod_subcat transaction_id  \\\n",
       "0             1  Clothing                 4        Mens    80712190438   \n",
       "1             1  Clothing                 4        Mens    80712190438   \n",
       "\n",
       "  cust_id  tran_date prod_subcat_code  Qty  Rate    Tax  total_amt Store_type  \\\n",
       "0  270351 2014-02-28                1   -5  -772  405.3    -4265.3     e-Shop   \n",
       "1  270351 2014-02-20                1    5   772  405.3     4265.3     e-Shop   \n",
       "\n",
       "  customer_Id        DOB Gender city_code  \n",
       "0      270351 1981-09-26      M       5.0  \n",
       "1      270351 1981-09-26      M       5.0  "
      ]
     },
     "execution_count": 127,
     "metadata": {},
     "output_type": "execute_result"
    }
   ],
   "source": [
    "cust_prod_trans.head(2)"
   ]
  },
  {
   "cell_type": "code",
   "execution_count": 126,
   "metadata": {},
   "outputs": [
    {
     "data": {
      "text/plain": [
       "9294"
      ]
     },
     "execution_count": 126,
     "metadata": {},
     "output_type": "execute_result"
    }
   ],
   "source": [
    "cust_prod_trans.loc[ cust_prod_trans.total_amt <0, 'prod_cat_code'].count()"
   ]
  },
  {
   "cell_type": "markdown",
   "metadata": {},
   "source": [
    "#### 5. Analyze which product categories are more popular among females vs male customers."
   ]
  },
  {
   "cell_type": "code",
   "execution_count": 132,
   "metadata": {},
   "outputs": [
    {
     "data": {
      "text/plain": [
       "Books    18696\n",
       "Name: prod_cat, dtype: int64"
      ]
     },
     "execution_count": 132,
     "metadata": {},
     "output_type": "execute_result"
    }
   ],
   "source": [
    "# For males\n",
    "cust_prod_trans.loc[cust_prod_trans.Gender== 'M', 'prod_cat'].value_counts().head(1)"
   ]
  },
  {
   "cell_type": "code",
   "execution_count": 133,
   "metadata": {},
   "outputs": [
    {
     "data": {
      "text/plain": [
       "Books    17694\n",
       "Name: prod_cat, dtype: int64"
      ]
     },
     "execution_count": 133,
     "metadata": {},
     "output_type": "execute_result"
    }
   ],
   "source": [
    "# For females\n",
    "cust_prod_trans.loc[cust_prod_trans.Gender== 'F', 'prod_cat'].value_counts().head(1)"
   ]
  },
  {
   "cell_type": "markdown",
   "metadata": {},
   "source": [
    "#### 6. Which City code has the maximum customers and what was the percentage of customers from that city?\n"
   ]
  },
  {
   "cell_type": "code",
   "execution_count": 139,
   "metadata": {},
   "outputs": [],
   "source": [
    "per_city= (cust_prod_trans.city_code.value_counts() * 100)/ cust_prod_trans.city_code.count()"
   ]
  },
  {
   "cell_type": "code",
   "execution_count": 157,
   "metadata": {},
   "outputs": [],
   "source": [
    "per_city= per_city.reset_index().rename(columns={'index': 'City_code', 'city_code': 'percent'})"
   ]
  },
  {
   "cell_type": "code",
   "execution_count": 159,
   "metadata": {},
   "outputs": [
    {
     "data": {
      "text/plain": [
       "0    4.0\n",
       "Name: City_code, dtype: object"
      ]
     },
     "execution_count": 159,
     "metadata": {},
     "output_type": "execute_result"
    }
   ],
   "source": [
    "per_city.City_code.head(1)"
   ]
  },
  {
   "cell_type": "markdown",
   "metadata": {},
   "source": [
    "#### 7. Which store type sells the maximum products by value and by quantity?"
   ]
  },
  {
   "cell_type": "code",
   "execution_count": 176,
   "metadata": {},
   "outputs": [
    {
     "data": {
      "text/plain": [
       "3    e-Shop\n",
       "Name: Store_type, dtype: object"
      ]
     },
     "execution_count": 176,
     "metadata": {},
     "output_type": "execute_result"
    }
   ],
   "source": [
    "cust_prod_trans.pivot_table( values= ['Qty', 'total_amt'], index= 'Store_type', aggfunc= 'sum').reset_index().sort_values(by= 'Qty', ascending= False).Store_type.head(1)"
   ]
  },
  {
   "cell_type": "markdown",
   "metadata": {},
   "source": [
    "#### 8. What was the total amount earned from the \"Electronics\" and \"Clothing\" categories from Flagship Stores?"
   ]
  },
  {
   "cell_type": "code",
   "execution_count": 196,
   "metadata": {},
   "outputs": [
    {
     "data": {
      "text/plain": [
       "57195587.86500001"
      ]
     },
     "execution_count": 196,
     "metadata": {},
     "output_type": "execute_result"
    }
   ],
   "source": [
    "cust_prod_trans.loc[(cust_prod_trans.prod_cat == \"Electronics\") | (cust_prod_trans.prod_cat == \"Clothing\") & (cust_prod_trans.Store_type == 'Flagship store'), 'total_amt'].sum()"
   ]
  },
  {
   "cell_type": "markdown",
   "metadata": {},
   "source": [
    "#### 9. What was the total amount earned from \"Male\" customers under the \"Electronics\" category?"
   ]
  },
  {
   "cell_type": "code",
   "execution_count": 198,
   "metadata": {},
   "outputs": [
    {
     "data": {
      "text/plain": [
       "28515547.124999996"
      ]
     },
     "execution_count": 198,
     "metadata": {},
     "output_type": "execute_result"
    }
   ],
   "source": [
    "cust_prod_trans.loc[(cust_prod_trans.prod_cat == \"Electronics\") & (cust_prod_trans.Gender == 'M'), 'total_amt'].sum()"
   ]
  },
  {
   "cell_type": "markdown",
   "metadata": {},
   "source": [
    "#### 10. How many customers have more than 10 unique transactions, after removing all transactions which have any negative amounts?"
   ]
  },
  {
   "cell_type": "code",
   "execution_count": 204,
   "metadata": {},
   "outputs": [
    {
     "data": {
      "text/html": [
       "<div>\n",
       "<style scoped>\n",
       "    .dataframe tbody tr th:only-of-type {\n",
       "        vertical-align: middle;\n",
       "    }\n",
       "\n",
       "    .dataframe tbody tr th {\n",
       "        vertical-align: top;\n",
       "    }\n",
       "\n",
       "    .dataframe thead th {\n",
       "        text-align: right;\n",
       "    }\n",
       "</style>\n",
       "<table border=\"1\" class=\"dataframe\">\n",
       "  <thead>\n",
       "    <tr style=\"text-align: right;\">\n",
       "      <th></th>\n",
       "      <th></th>\n",
       "      <th>prod_cat_code</th>\n",
       "    </tr>\n",
       "    <tr>\n",
       "      <th>cust_id</th>\n",
       "      <th>transaction_id</th>\n",
       "      <th></th>\n",
       "    </tr>\n",
       "  </thead>\n",
       "  <tbody>\n",
       "    <tr>\n",
       "      <th rowspan=\"4\" valign=\"top\">266783</th>\n",
       "      <th>16999552161</th>\n",
       "      <td>6</td>\n",
       "    </tr>\n",
       "    <tr>\n",
       "      <th>25890929042</th>\n",
       "      <td>3</td>\n",
       "    </tr>\n",
       "    <tr>\n",
       "      <th>8410316370</th>\n",
       "      <td>3</td>\n",
       "    </tr>\n",
       "    <tr>\n",
       "      <th>98477711300</th>\n",
       "      <td>3</td>\n",
       "    </tr>\n",
       "    <tr>\n",
       "      <th>266784</th>\n",
       "      <th>26928161256</th>\n",
       "      <td>6</td>\n",
       "    </tr>\n",
       "    <tr>\n",
       "      <th>...</th>\n",
       "      <th>...</th>\n",
       "      <td>...</td>\n",
       "    </tr>\n",
       "    <tr>\n",
       "      <th rowspan=\"2\" valign=\"top\">275264</th>\n",
       "      <th>81382444243</th>\n",
       "      <td>4</td>\n",
       "    </tr>\n",
       "    <tr>\n",
       "      <th>94712826085</th>\n",
       "      <td>6</td>\n",
       "    </tr>\n",
       "    <tr>\n",
       "      <th rowspan=\"3\" valign=\"top\">275265</th>\n",
       "      <th>24113900219</th>\n",
       "      <td>4</td>\n",
       "    </tr>\n",
       "    <tr>\n",
       "      <th>38961184788</th>\n",
       "      <td>6</td>\n",
       "    </tr>\n",
       "    <tr>\n",
       "      <th>7214136016</th>\n",
       "      <td>2</td>\n",
       "    </tr>\n",
       "  </tbody>\n",
       "</table>\n",
       "<p>20876 rows × 1 columns</p>\n",
       "</div>"
      ],
      "text/plain": [
       "                        prod_cat_code\n",
       "cust_id transaction_id               \n",
       "266783  16999552161                 6\n",
       "        25890929042                 3\n",
       "        8410316370                  3\n",
       "        98477711300                 3\n",
       "266784  26928161256                 6\n",
       "...                               ...\n",
       "275264  81382444243                 4\n",
       "        94712826085                 6\n",
       "275265  24113900219                 4\n",
       "        38961184788                 6\n",
       "        7214136016                  2\n",
       "\n",
       "[20876 rows x 1 columns]"
      ]
     },
     "execution_count": 204,
     "metadata": {},
     "output_type": "execute_result"
    }
   ],
   "source": [
    "cust_prod_trans.loc[cust_prod_trans.total_amt >=0, ['cust_id', 'transaction_id', 'prod_cat_code']].pivot_table(index= ['cust_id', 'transaction_id'], aggfunc= 'count')"
   ]
  },
  {
   "cell_type": "code",
   "execution_count": 214,
   "metadata": {},
   "outputs": [],
   "source": [
    "q10= cust_prod_trans.loc[cust_prod_trans.total_amt >=0, ['cust_id', 'transaction_id']].pivot_table(index= ['cust_id'], aggfunc= 'nunique').reset_index().rename(columns= {'transaction_id': 'cnt_unique_trans_id'})"
   ]
  },
  {
   "cell_type": "code",
   "execution_count": 215,
   "metadata": {},
   "outputs": [
    {
     "data": {
      "text/html": [
       "<div>\n",
       "<style scoped>\n",
       "    .dataframe tbody tr th:only-of-type {\n",
       "        vertical-align: middle;\n",
       "    }\n",
       "\n",
       "    .dataframe tbody tr th {\n",
       "        vertical-align: top;\n",
       "    }\n",
       "\n",
       "    .dataframe thead th {\n",
       "        text-align: right;\n",
       "    }\n",
       "</style>\n",
       "<table border=\"1\" class=\"dataframe\">\n",
       "  <thead>\n",
       "    <tr style=\"text-align: right;\">\n",
       "      <th></th>\n",
       "      <th>cust_id</th>\n",
       "      <th>cnt_unique_trans_id</th>\n",
       "    </tr>\n",
       "  </thead>\n",
       "  <tbody>\n",
       "    <tr>\n",
       "      <th>0</th>\n",
       "      <td>266783</td>\n",
       "      <td>4</td>\n",
       "    </tr>\n",
       "  </tbody>\n",
       "</table>\n",
       "</div>"
      ],
      "text/plain": [
       "  cust_id  cnt_unique_trans_id\n",
       "0  266783                    4"
      ]
     },
     "execution_count": 215,
     "metadata": {},
     "output_type": "execute_result"
    }
   ],
   "source": [
    "q10.head(1)"
   ]
  },
  {
   "cell_type": "code",
   "execution_count": 219,
   "metadata": {},
   "outputs": [
    {
     "data": {
      "text/plain": [
       "27"
      ]
     },
     "execution_count": 219,
     "metadata": {},
     "output_type": "execute_result"
    }
   ],
   "source": [
    "q10.loc[q10.cnt_unique_trans_id >= 10, 'cust_id'].count()"
   ]
  },
  {
   "cell_type": "markdown",
   "metadata": {},
   "source": [
    "#### 11. For all customers aged between 25 - 35, find out:"
   ]
  },
  {
   "cell_type": "code",
   "execution_count": 232,
   "metadata": {},
   "outputs": [],
   "source": [
    "cust_prod_trans['Age']= date.today().year - cust_prod_trans.DOB.dt.year"
   ]
  },
  {
   "cell_type": "code",
   "execution_count": 242,
   "metadata": {},
   "outputs": [],
   "source": [
    "cust_25_35= cust_prod_trans.loc[(cust_prod_trans.Age >= 25) & (cust_prod_trans.Age <= 35), :]"
   ]
  },
  {
   "cell_type": "markdown",
   "metadata": {},
   "source": [
    " ##### a. What was the total amount spent for “Electronics” and “Books” product categories?"
   ]
  },
  {
   "cell_type": "code",
   "execution_count": 243,
   "metadata": {},
   "outputs": [
    {
     "data": {
      "text/html": [
       "<div>\n",
       "<style scoped>\n",
       "    .dataframe tbody tr th:only-of-type {\n",
       "        vertical-align: middle;\n",
       "    }\n",
       "\n",
       "    .dataframe tbody tr th {\n",
       "        vertical-align: top;\n",
       "    }\n",
       "\n",
       "    .dataframe thead th {\n",
       "        text-align: right;\n",
       "    }\n",
       "</style>\n",
       "<table border=\"1\" class=\"dataframe\">\n",
       "  <thead>\n",
       "    <tr style=\"text-align: right;\">\n",
       "      <th></th>\n",
       "      <th>prod_cat_code</th>\n",
       "      <th>prod_cat</th>\n",
       "      <th>prod_sub_cat_code</th>\n",
       "      <th>prod_subcat</th>\n",
       "      <th>transaction_id</th>\n",
       "      <th>cust_id</th>\n",
       "      <th>tran_date</th>\n",
       "      <th>prod_subcat_code</th>\n",
       "      <th>Qty</th>\n",
       "      <th>Rate</th>\n",
       "      <th>Tax</th>\n",
       "      <th>total_amt</th>\n",
       "      <th>Store_type</th>\n",
       "      <th>customer_Id</th>\n",
       "      <th>DOB</th>\n",
       "      <th>Gender</th>\n",
       "      <th>city_code</th>\n",
       "      <th>Age</th>\n",
       "    </tr>\n",
       "  </thead>\n",
       "  <tbody>\n",
       "    <tr>\n",
       "      <th>210</th>\n",
       "      <td>1</td>\n",
       "      <td>Clothing</td>\n",
       "      <td>4</td>\n",
       "      <td>Mens</td>\n",
       "      <td>57134739558</td>\n",
       "      <td>270625</td>\n",
       "      <td>2014-02-14</td>\n",
       "      <td>1</td>\n",
       "      <td>5</td>\n",
       "      <td>595</td>\n",
       "      <td>312.375</td>\n",
       "      <td>3287.375</td>\n",
       "      <td>TeleShop</td>\n",
       "      <td>270625</td>\n",
       "      <td>1992-03-02</td>\n",
       "      <td>M</td>\n",
       "      <td>6.0</td>\n",
       "      <td>31</td>\n",
       "    </tr>\n",
       "    <tr>\n",
       "      <th>211</th>\n",
       "      <td>1</td>\n",
       "      <td>Clothing</td>\n",
       "      <td>4</td>\n",
       "      <td>Mens</td>\n",
       "      <td>42584381402</td>\n",
       "      <td>270625</td>\n",
       "      <td>2012-06-22</td>\n",
       "      <td>1</td>\n",
       "      <td>5</td>\n",
       "      <td>1371</td>\n",
       "      <td>719.775</td>\n",
       "      <td>7574.775</td>\n",
       "      <td>TeleShop</td>\n",
       "      <td>270625</td>\n",
       "      <td>1992-03-02</td>\n",
       "      <td>M</td>\n",
       "      <td>6.0</td>\n",
       "      <td>31</td>\n",
       "    </tr>\n",
       "  </tbody>\n",
       "</table>\n",
       "</div>"
      ],
      "text/plain": [
       "    prod_cat_code  prod_cat prod_sub_cat_code prod_subcat transaction_id  \\\n",
       "210             1  Clothing                 4        Mens    57134739558   \n",
       "211             1  Clothing                 4        Mens    42584381402   \n",
       "\n",
       "    cust_id  tran_date prod_subcat_code  Qty  Rate      Tax  total_amt  \\\n",
       "210  270625 2014-02-14                1    5   595  312.375   3287.375   \n",
       "211  270625 2012-06-22                1    5  1371  719.775   7574.775   \n",
       "\n",
       "    Store_type customer_Id        DOB Gender city_code  Age  \n",
       "210   TeleShop      270625 1992-03-02      M       6.0   31  \n",
       "211   TeleShop      270625 1992-03-02      M       6.0   31  "
      ]
     },
     "execution_count": 243,
     "metadata": {},
     "output_type": "execute_result"
    }
   ],
   "source": [
    "cust_25_35.head(2)"
   ]
  },
  {
   "cell_type": "code",
   "execution_count": 246,
   "metadata": {},
   "outputs": [
    {
     "data": {
      "text/plain": [
       "27367446.599999998"
      ]
     },
     "execution_count": 246,
     "metadata": {},
     "output_type": "execute_result"
    }
   ],
   "source": [
    "cust_25_35.loc[(cust_25_35.prod_cat == 'Books') | (cust_25_35.prod_cat == 'Electronics'), 'total_amt'].sum()\n"
   ]
  },
  {
   "cell_type": "markdown",
   "metadata": {},
   "source": [
    " ##### b. What was the total amount spent by these customers between 1st Jan, 2014 to 1st Mar, 2014?"
   ]
  },
  {
   "cell_type": "code",
   "execution_count": 249,
   "metadata": {},
   "outputs": [
    {
     "data": {
      "text/plain": [
       "1588406.56"
      ]
     },
     "execution_count": 249,
     "metadata": {},
     "output_type": "execute_result"
    }
   ],
   "source": [
    "cust_25_35.loc[(cust_25_35.tran_date >= '2014-01-01') & (cust_25_35.tran_date <= '2014-03-01'), 'total_amt'].sum()"
   ]
  },
  {
   "cell_type": "code",
   "execution_count": null,
   "metadata": {},
   "outputs": [],
   "source": []
  }
 ],
 "metadata": {
  "kernelspec": {
   "display_name": "Python 3",
   "language": "python",
   "name": "python3"
  },
  "language_info": {
   "codemirror_mode": {
    "name": "ipython",
    "version": 3
   },
   "file_extension": ".py",
   "mimetype": "text/x-python",
   "name": "python",
   "nbconvert_exporter": "python",
   "pygments_lexer": "ipython3",
   "version": "3.8.5"
  }
 },
 "nbformat": 4,
 "nbformat_minor": 4
}
